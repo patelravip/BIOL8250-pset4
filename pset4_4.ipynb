{
 "cells": [
  {
   "cell_type": "code",
   "execution_count": 1,
   "metadata": {
    "collapsed": true
   },
   "outputs": [],
   "source": [
    "from __future__ import division\n",
    "import os\n",
    "import sys\n",
    "\n",
    "import numpy as np\n",
    "import scipy as sp\n",
    "from scipy import stats\n",
    "\n",
    "from Bio import SeqIO ## BioPython, to read FASTAs\n",
    "import pysam"
   ]
  },
  {
   "cell_type": "markdown",
   "metadata": {},
   "source": [
    "## 4A\n",
    "Read in the yeast reference genome to Python (we’ve done this a few times already, so you should be good at this by now!)"
   ]
  },
  {
   "cell_type": "code",
   "execution_count": 2,
   "metadata": {
    "collapsed": true
   },
   "outputs": [],
   "source": [
    "yeastRef = SeqIO.to_dict(SeqIO.parse('sacCer3.fa', 'fasta'))"
   ]
  },
  {
   "cell_type": "markdown",
   "metadata": {},
   "source": [
    "## 4D\n",
    "If there are any non-reference reads, compute the genotype likelihood at that position"
   ]
  },
  {
   "cell_type": "code",
   "execution_count": 3,
   "metadata": {
    "collapsed": false
   },
   "outputs": [],
   "source": [
    "## Load BAM of BOWTIE results\n",
    "aln = pysam.AlignmentFile('yeast.sorted.bam', 'rb')"
   ]
  },
  {
   "cell_type": "code",
   "execution_count": 8,
   "metadata": {
    "collapsed": false
   },
   "outputs": [
    {
     "name": "stdout",
     "output_type": "stream",
     "text": [
      "{'SQ': [{'LN': 230218, 'SN': 'chrI'}, {'LN': 813184, 'SN': 'chrII'}, {'LN': 316620, 'SN': 'chrIII'}, {'LN': 1531933, 'SN': 'chrIV'}, {'LN': 439888, 'SN': 'chrIX'}, {'LN': 576874, 'SN': 'chrV'}, {'LN': 270161, 'SN': 'chrVI'}, {'LN': 1090940, 'SN': 'chrVII'}, {'LN': 562643, 'SN': 'chrVIII'}, {'LN': 745751, 'SN': 'chrX'}, {'LN': 666816, 'SN': 'chrXI'}, {'LN': 1078177, 'SN': 'chrXII'}, {'LN': 924431, 'SN': 'chrXIII'}, {'LN': 784333, 'SN': 'chrXIV'}, {'LN': 1091291, 'SN': 'chrXV'}, {'LN': 948066, 'SN': 'chrXVI'}, {'LN': 85779, 'SN': 'chrM'}], 'PG': [{'PN': 'bowtie2', 'ID': 'bowtie2', 'VN': '2.1.0'}], 'HD': {'SO': 'coordinate', 'VN': '1.0'}}\n"
     ]
    }
   ],
   "source": [
    "## Look at the header\n",
    "print aln.header"
   ]
  },
  {
   "cell_type": "code",
   "execution_count": 9,
   "metadata": {
    "collapsed": true
   },
   "outputs": [],
   "source": [
    "## Make the pileup\n",
    "pileup = aln.pileup()"
   ]
  },
  {
   "cell_type": "code",
   "execution_count": 21,
   "metadata": {
    "collapsed": false
   },
   "outputs": [],
   "source": [
    "## Iterate over all pileup results for SNPs only\n",
    "for puc in pileup:\n",
    "    chrom = puc.reference_name\n",
    "    ref = yeastRef[chrom].seq[puc.reference_pos]\n",
    "    reads = []\n",
    "    for pu in puc.pileups:\n",
    "        if pu.is_del or pu.is_refskip:\n",
    "            continue\n",
    "        reads.append(pu.alignment.query_sequence[pu.query_position])\n",
    "    if (len(reads) == 1) and (ref in reads):\n",
    "        continue   \n",
    "    break ## for testing"
   ]
  },
  {
   "cell_type": "code",
   "execution_count": 27,
   "metadata": {
    "collapsed": false
   },
   "outputs": [
    {
     "data": {
      "text/plain": [
       "['A', 'C']"
      ]
     },
     "execution_count": 27,
     "metadata": {},
     "output_type": "execute_result"
    }
   ],
   "source": [
    "reads"
   ]
  },
  {
   "cell_type": "markdown",
   "metadata": {},
   "source": [
    "## 4E\n",
    "Output sites where you are confident that there is a non-reference allele. Output a 6 column file: chromosome, position, reference allele, alternative allele, genotype likelihood given reference, genotype likelihood given alternative"
   ]
  }
 ],
 "metadata": {
  "kernelspec": {
   "display_name": "Python 2",
   "language": "python",
   "name": "python2"
  },
  "language_info": {
   "codemirror_mode": {
    "name": "ipython",
    "version": 2
   },
   "file_extension": ".py",
   "mimetype": "text/x-python",
   "name": "python",
   "nbconvert_exporter": "python",
   "pygments_lexer": "ipython2",
   "version": "2.7.6"
  },
  "widgets": {
   "state": {},
   "version": "1.1.2"
  }
 },
 "nbformat": 4,
 "nbformat_minor": 0
}
