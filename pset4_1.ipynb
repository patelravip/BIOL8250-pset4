{
 "cells": [
  {
   "cell_type": "code",
   "execution_count": null,
   "metadata": {
    "collapsed": true
   },
   "outputs": [],
   "source": [
    "from __future__ import division\n",
    "import os\n",
    "import sys\n",
    "\n",
    "from Bio import SeqIO ## BioPython, to read FASTAs"
   ]
  },
  {
   "cell_type": "markdown",
   "metadata": {},
   "source": [
    "## 1A\n",
    "Create the Burrows-Wheeler transform by appending the $ character to the end, generating all suffixes, sorting the suffixes in lexicographical order, and then taking the final character, as outlined in class. Output the BWT in a separate file for each chromosome."
   ]
  },
  {
   "cell_type": "code",
   "execution_count": null,
   "metadata": {
    "collapsed": false
   },
   "outputs": [],
   "source": [
    "## Lets verify my BWT implementation\n",
    "s = \"someword\" + \"$\"\n",
    "\n",
    "base = []\n",
    "lexo = []\n",
    "\n",
    "for i in range(len(s)):\n",
    "    x = \"{}{}\".format(s[len(s)-i:len(s)],s[:len(s)-i])\n",
    "    base.append(x)\n",
    "    \n",
    "lexo = sorted(base)\n",
    "\n",
    "print '\\n'.join(base)\n",
    "print\n",
    "print '\\n'.join(lexo)   "
   ]
  },
  {
   "cell_type": "code",
   "execution_count": null,
   "metadata": {
    "collapsed": true
   },
   "outputs": [],
   "source": [
    "## Read in each chrom\n",
    "records = SeqIO.to_dict(SeqIO.parse('my_genome.fa', 'fasta'))"
   ]
  },
  {
   "cell_type": "markdown",
   "metadata": {},
   "source": [
    "## \\/ \\/ (below) Takes too much RAM\n",
    "so, I will do it for one chrom. only; the shortest one"
   ]
  },
  {
   "cell_type": "code",
   "execution_count": null,
   "metadata": {
    "collapsed": false
   },
   "outputs": [],
   "source": [
    "## Lets make the BWT a function for ease\n",
    "def get_BWT(sequence):\n",
    "    s = sequence + \"$\"\n",
    "    base = []\n",
    "    lexo = []\n",
    "\n",
    "    for i in range(len(s)):\n",
    "        x = \"{}{}\".format(s[len(s)-i:len(s)],s[:len(s)-i])\n",
    "        base.append(x)\n",
    "\n",
    "    lexo = sorted(base)\n",
    "    \n",
    "    return ''.join([x[-1] for x in lexo])"
   ]
  },
  {
   "cell_type": "code",
   "execution_count": null,
   "metadata": {
    "collapsed": false
   },
   "outputs": [],
   "source": [
    "%%time\n",
    "# for chrom in records:\n",
    "for chrom in ['Chromosome_2',]: ## Leaving the FOR loop even though there is only one item, so the rest of the code doesnt break\n",
    "    with open('{}_bwt.txt'.format(chrom), 'w') as fh:\n",
    "        fh.write('{}\\n'.format(get_BWT(str(records[chrom].seq))))"
   ]
  },
  {
   "cell_type": "code",
   "execution_count": null,
   "metadata": {
    "collapsed": false
   },
   "outputs": [],
   "source": [
    "get_BWT(records['Chromosome_0'].seq)  ## TEST"
   ]
  },
  {
   "cell_type": "code",
   "execution_count": null,
   "metadata": {
    "collapsed": true
   },
   "outputs": [],
   "source": []
  }
 ],
 "metadata": {
  "kernelspec": {
   "display_name": "Python 2",
   "language": "python",
   "name": "python2"
  },
  "language_info": {
   "codemirror_mode": {
    "name": "ipython",
    "version": 2
   },
   "file_extension": ".py",
   "mimetype": "text/x-python",
   "name": "python",
   "nbconvert_exporter": "python",
   "pygments_lexer": "ipython2",
   "version": "2.7.6"
  },
  "widgets": {
   "state": {},
   "version": "1.1.2"
  }
 },
 "nbformat": 4,
 "nbformat_minor": 0
}
